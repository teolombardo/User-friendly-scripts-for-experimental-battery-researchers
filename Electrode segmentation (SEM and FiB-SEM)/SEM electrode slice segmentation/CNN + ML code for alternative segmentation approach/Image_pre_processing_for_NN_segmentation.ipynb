{
 "cells": [
  {
   "cell_type": "code",
   "execution_count": 1,
   "id": "2cdfef76",
   "metadata": {},
   "outputs": [],
   "source": [
    "# Data manipulation\n",
    "from os import path\n",
    "import numpy as np\n",
    "import pandas as pd\n",
    "from itertools import groupby\n",
    "import os\n",
    "import csv\n",
    "import glob\n",
    "import tifffile\n",
    "import math\n",
    "\n",
    "# Plotting\n",
    "import matplotlib\n",
    "import matplotlib.pyplot as plt\n",
    "import matplotlib.image as mplimg\n",
    "from matplotlib.colors import ListedColormap\n",
    "import seaborn as sns\n",
    "from ipywidgets import interact\n",
    "\n",
    "# Images manipulation\n",
    "from skimage import img_as_float, img_as_ubyte, img_as_float64, img_as_float32, exposure, feature, morphology, measure, segmentation, transform, color\n",
    "from skimage.restoration import denoise_nl_means, unsupervised_wiener, denoise_tv_bregman, denoise_bilateral\n",
    "from skimage.util import compare_images, invert\n",
    "from skimage.filters import threshold_multiotsu, difference_of_gaussians\n",
    "from skimage.morphology import disk\n",
    "from skimage.registration import phase_cross_correlation\n",
    "from skimage.io import imread\n",
    "from scipy import stats, misc, ndimage\n",
    "import cv2\n",
    "from cv2_rolling_ball import subtract_background_rolling_ball\n",
    "from skimage.metrics import structural_similarity\n",
    "from skimage import registration\n",
    "from skimage.transform import warp\n",
    "from skimage.measure import marching_cubes\n",
    "\n",
    "import pickle\n",
    "import copy"
   ]
  },
  {
   "cell_type": "code",
   "execution_count": 29,
   "id": "a9a2cac9",
   "metadata": {},
   "outputs": [
    {
     "name": "stderr",
     "output_type": "stream",
     "text": [
      "C:\\Users\\teolo\\AppData\\Local\\Temp/ipykernel_11424/2531882902.py:30: DeprecationWarning: <tifffile.imsave> is deprecated. Use tifffile.imwrite\n",
      "  tifffile.imsave(path_save, img_proc)\n"
     ]
    }
   ],
   "source": [
    "# Recover imgs, pre-process, and save -- Needed if light equalization through CLAHE will be applied afterwards\n",
    "path_imgs  = r'C:\\Users\\teolo\\OneDrive\\Documenti\\Giessen\\Codes\\Segmentation\\Final_2023_01\\Test_FIB\\test small'\n",
    "imgs_list = os.listdir(path_imgs)\n",
    "\n",
    "directory_processed = path_imgs + \"\\\\\" + \"Processed for masks for NN training\"\n",
    "try: \n",
    "    os.makedirs(directory_processed)\n",
    "except:\n",
    "    pass\n",
    "\n",
    "\n",
    "clip_lim = 1 # Parameter for expert users -- This has to be the same used for the proper segmentation (after that the model is trained) afterwards!!\n",
    "grid_clahe = 8 # Parameter for expert users -- This has to be the same used for the proper segmentation (after that the model is trained) afterwards!!\n",
    "\n",
    "for img_name in imgs_list:\n",
    "    if \".png\" in img_name or \".tif\" in img_name:\n",
    "        path_img = path_imgs + \"\\\\\" + img_name\n",
    "        img = img_as_ubyte(imread((path_img), as_gray=True))\n",
    "        \n",
    "        #Pre-processing - CLAHE\n",
    "        img_8bit = copy.copy(np.uint8(np.array(img)))\n",
    "\n",
    "        clahe = cv2.createCLAHE(clipLimit=clip_lim, tileGridSize=(grid_clahe,grid_clahe)) # cliplimit and titleGridSize as expert user parameters -1,2 seems good for my case, but typically values seems to be 3,4\n",
    "        img_proc = clahe.apply(img_8bit)\n",
    "        \n",
    "        if \".png\" in img_name:\n",
    "            path_save = directory_processed + \"\\\\\" + img_name.split(\".png\")[0] + \".tif\"\n",
    "        if \".tif\" in img_name:\n",
    "            path_save = directory_processed + \"\\\\\" + img_name\n",
    "        tifffile.imsave(path_save, img_proc) "
   ]
  },
  {
   "cell_type": "code",
   "execution_count": null,
   "id": "eecb232c",
   "metadata": {},
   "outputs": [],
   "source": []
  }
 ],
 "metadata": {
  "kernelspec": {
   "display_name": "Python 3 (ipykernel)",
   "language": "python",
   "name": "python3"
  },
  "language_info": {
   "codemirror_mode": {
    "name": "ipython",
    "version": 3
   },
   "file_extension": ".py",
   "mimetype": "text/x-python",
   "name": "python",
   "nbconvert_exporter": "python",
   "pygments_lexer": "ipython3",
   "version": "3.10.2"
  }
 },
 "nbformat": 4,
 "nbformat_minor": 5
}
